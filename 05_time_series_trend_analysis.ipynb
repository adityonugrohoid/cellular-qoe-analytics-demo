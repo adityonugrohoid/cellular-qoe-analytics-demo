{
 "cells": [
  {
   "cell_type": "markdown",
   "id": "3c74a30d",
   "metadata": {},
   "source": [
    "# Time Series Trend Analysis\n",
    "\n",
    "- Loads raw or cleaned sessions for flexible exploration.\n",
    "- Plots time series of selected KPIs (`page_load_time_ms`, etc.) over time.\n",
    "- Supports filtering by device, network type, and operator (via dropdowns).\n",
    "- For each combination, visualizes KPI trends to spot patterns and outliers.\n",
    "- Enables fast, focused slicing for exploratory trend analysis.\n"
   ]
  },
  {
   "cell_type": "code",
   "execution_count": null,
   "id": "84ad8bfb",
   "metadata": {},
   "outputs": [],
   "source": [
    "# Step 1: Setup & Imports\n",
    "import pandas as pd\n",
    "import matplotlib.pyplot as plt\n",
    "\n",
    "# Optional: For interactivity (uncomment if needed)\n",
    "# %matplotlib inline\n",
    "# from ipywidgets import interact, Dropdown\n",
    "\n",
    "# Step 2: Select Source File\n",
    "# Set to 'raw' or 'cleaned'\n",
    "SOURCE = \"cleaned\"  # or \"raw\"\n",
    "\n",
    "if SOURCE == \"raw\":\n",
    "    FILE = \"synthetic_qoe_sessions.csv\"\n",
    "else:\n",
    "    FILE = \"synthetic_qoe_sessions_clean.csv\"\n",
    "\n",
    "# Adjust parse_dates as needed based on your column names\n",
    "df = pd.read_csv(FILE, parse_dates=['timestamp'])\n",
    "\n",
    "print(f\"Loaded: {FILE}, shape: {df.shape}\")\n",
    "display(df.head())\n"
   ]
  },
  {
   "cell_type": "code",
   "execution_count": null,
   "id": "2ca827c0",
   "metadata": {},
   "outputs": [],
   "source": [
    "# Step 3: List columns, select KPIs, and group-by options\n",
    "\n",
    "print(\"Columns:\", df.columns.tolist())\n",
    "\n",
    "# KPIs to plot (edit as needed)\n",
    "KPIS = [\n",
    "    'page_load_time_ms',\n",
    "    'buffering_ratio',\n",
    "    'startup_delay_ms',\n",
    "    # Add others from your dataset if needed\n",
    "]\n",
    "\n",
    "# Group-by categorical fields (edit as needed)\n",
    "GROUP_BY_FIELDS = [\n",
    "    'country',\n",
    "    'device',\n",
    "    'network_type',\n",
    "    'operator',\n",
    "    # Add others if you want more options\n",
    "]\n"
   ]
  },
  {
   "cell_type": "code",
   "execution_count": null,
   "id": "04606cc4",
   "metadata": {},
   "outputs": [],
   "source": [
    "# Step 4: Interactive Plot - Dropdown for KPI and Group-by\n",
    "\n",
    "from ipywidgets import interact, Dropdown\n",
    "\n",
    "# Unique values for each category from your data\n",
    "DEVICE_OPTIONS       = sorted(df['device'].unique())\n",
    "NETWORK_TYPE_OPTIONS = sorted(df['network_type'].unique())\n",
    "OPERATOR_OPTIONS     = sorted(df['operator'].unique())\n",
    "\n",
    "KPIS = [\n",
    "    'page_load_time_ms',\n",
    "    'startup_delay_ms',\n",
    "    'buffering_ratio',\n",
    "    # add more if available\n",
    "]\n",
    "\n",
    "def plot_filtered_kpi(kpi, device, network_type, operator):\n",
    "    mask = (\n",
    "        (df['device'] == device) &\n",
    "        (df['network_type'] == network_type) &\n",
    "        (df['operator'] == operator)\n",
    "    )\n",
    "    filtered = df.loc[mask]\n",
    "    if filtered.empty:\n",
    "        print(\"No data for this combination.\")\n",
    "        return\n",
    "    plt.figure(figsize=(14, 5))\n",
    "    plt.plot(filtered['timestamp'], filtered[kpi], marker='o', linestyle='-', alpha=0.85)\n",
    "    plt.title(f\"{kpi} | {device} - {network_type} - {operator}\")\n",
    "    plt.xlabel(\"Timestamp\")\n",
    "    plt.ylabel(kpi)\n",
    "    plt.tight_layout()\n",
    "    plt.show()\n",
    "\n",
    "interact(\n",
    "    plot_filtered_kpi,\n",
    "    kpi=Dropdown(options=KPIS, description='KPI:'),\n",
    "    device=Dropdown(options=DEVICE_OPTIONS, description='Device:'),\n",
    "    network_type=Dropdown(options=NETWORK_TYPE_OPTIONS, description='Net Type:'),\n",
    "    operator=Dropdown(options=OPERATOR_OPTIONS, description='Operator:')\n",
    ")\n"
   ]
  }
 ],
 "metadata": {
  "kernelspec": {
   "display_name": "qoe-demo",
   "language": "python",
   "name": "python3"
  },
  "language_info": {
   "codemirror_mode": {
    "name": "ipython",
    "version": 3
   },
   "file_extension": ".py",
   "mimetype": "text/x-python",
   "name": "python",
   "nbconvert_exporter": "python",
   "pygments_lexer": "ipython3",
   "version": "3.13.5"
  }
 },
 "nbformat": 4,
 "nbformat_minor": 5
}
